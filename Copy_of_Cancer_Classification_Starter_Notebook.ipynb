{
  "nbformat": 4,
  "nbformat_minor": 0,
  "metadata": {
    "colab": {
      "provenance": []
    },
    "kernelspec": {
      "name": "python3",
      "display_name": "Python 3"
    },
    "language_info": {
      "name": "python"
    }
  },
  "cells": [
    {
      "cell_type": "code",
      "execution_count": 30,
      "metadata": {
        "colab": {
          "base_uri": "https://localhost:8080/"
        },
        "id": "JdKpvnut74qD",
        "outputId": "5a621d10-0885-4d96-d84c-5736012548ad"
      },
      "outputs": [
        {
          "output_type": "stream",
          "name": "stdout",
          "text": [
            "Drive already mounted at /content/drive; to attempt to forcibly remount, call drive.mount(\"/content/drive\", force_remount=True).\n"
          ]
        }
      ],
      "source": [
        "from google.colab import drive\n",
        "drive.mount('/content/drive')"
      ]
    },
    {
      "cell_type": "code",
      "source": [
        "import pandas as pd\n",
        "import seaborn as sns\n",
        "import matplotlib.pyplot as plt\n",
        "\n",
        "# Path to the CSV file\n",
        "file_path = '/content/drive/MyDrive/Datathon/2024/data/data.csv'\n",
        "\n",
        "# Load the CSV into a DataFrame\n",
        "data = pd.read_csv(file_path)\n",
        "data.drop('id', axis=1, inplace=True)\n",
        "data.drop('Unnamed: 32', axis=1, inplace=True)\n",
        "data = data.dropna()\n",
        "data = data.drop('diagnosis', axis=1)"
      ],
      "metadata": {
        "id": "i-peCETQ8QBq"
      },
      "execution_count": 31,
      "outputs": []
    },
    {
      "cell_type": "code",
      "source": [
        "\n",
        "# first index is M, second is B\n",
        "ranges = {\n",
        "    'radius_mean': [17.5, 12.5],\n",
        "    'perimeter_mean': [117, 79],\n",
        "    'area_mean': [950, 500],\n",
        "    'compactness_mean': [.135, .075],\n",
        "    'concavity_mean': [.15, .05],\n",
        "    'concave points_mean': [.085, .025],\n",
        "    'radius_worst': [21, 14],\n",
        "    'perimeter_worst': [135, 90],\n",
        "    'area_worst': [1300, 550],\n",
        "    'concavity_worst': [.4, .18],\n",
        "    'concave points_worst': [.18, .07]\n",
        "}\n",
        "\n",
        "def get_class(datapoint):\n",
        "  votes = [0, 0]\n",
        "  for column_name in ranges.keys():\n",
        "    m_ref = ranges[column_name][0]\n",
        "    b_ref = ranges[column_name][1]\n",
        "    m_dist = abs(datapoint[column_name] - m_ref)\n",
        "    b_dist = abs(datapoint[column_name] - b_ref)\n",
        "    if m_dist < b_dist:\n",
        "      votes[0] += 1\n",
        "    else:\n",
        "      votes[1] += 1\n",
        "    # print(column_name, m_dist, b_dist)\n",
        "  if votes[0] > votes[1]:\n",
        "    return 0\n",
        "  return 1"
      ],
      "metadata": {
        "id": "EYHzqjuV904I"
      },
      "execution_count": 38,
      "outputs": []
    },
    {
      "cell_type": "code",
      "source": [
        "# Part of the evaluation function to get the differnce between 2 datapoints\n",
        "def weighted_difference(data1, data2):\n",
        "\n",
        "    class1 = get_class(data1)\n",
        "    class2 = get_class(data2)\n",
        "\n",
        "    if class1 == class2:\n",
        "      return 1000\n",
        "\n",
        "    # Define weights for each column\n",
        "    weights = {\n",
        "        \"radius_mean\": 0.05,\n",
        "        \"texture_mean\": 0.05,\n",
        "        \"perimeter_mean\": 0.01,\n",
        "        \"area_mean\": 0.001,\n",
        "        \"smoothness_mean\": 10,\n",
        "        \"compactness_mean\": 0.03,\n",
        "        \"concavity_mean\": 3,\n",
        "        \"concave points_mean\": 2,\n",
        "        \"symmetry_mean\": 5,\n",
        "        \"fractal_dimension_mean\": 3,\n",
        "        \"radius_se\": 10,\n",
        "        \"texture_se\": 0.5,\n",
        "        \"perimeter_se\": 0.25,\n",
        "        \"area_se\": .002,\n",
        "        \"smoothness_se\": 10,\n",
        "        \"compactness_se\": 3,\n",
        "        \"concavity_se\": 25,\n",
        "        \"concave points_se\": 15,\n",
        "        \"symmetry_se\": 30,\n",
        "        \"fractal_dimension_se\": 0.33,\n",
        "        \"radius_worst\": 0.33,\n",
        "        \"texture_worst\": 0.025,\n",
        "        \"perimeter_worst\": 0.005,\n",
        "        \"area_worst\": 0.00025,\n",
        "        \"smoothness_worst\": 5,\n",
        "        \"compactness_worst\": 1,\n",
        "        \"concavity_worst\": 5,\n",
        "        \"concave points_worst\": 3,\n",
        "        \"symmetry_worst\": 2,\n",
        "        \"fractal_dimension_worst\": 4\n",
        "    }\n",
        "\n",
        "    total_weighted_difference = 0\n",
        "    for column, value1 in data1.items():\n",
        "        value2 = data2[column]\n",
        "        weight = weights[column]\n",
        "        # print(column, abs(value1 - value2) * weight)\n",
        "\n",
        "\n",
        "        try:\n",
        "            diff = abs(value1 - value2)\n",
        "        except ValueError:\n",
        "            raise ValueError(f\"Column '{column}' not found in mappings or ranges.\")\n",
        "\n",
        "        total_weighted_difference += weight * diff\n",
        "\n",
        "    return total_weighted_difference"
      ],
      "metadata": {
        "id": "sXcN9BvZEBih"
      },
      "execution_count": 36,
      "outputs": []
    },
    {
      "cell_type": "code",
      "source": [
        "# Format for Datapoint:\n",
        "# {'radius_mean': 24.25, 'texture_mean': 20.2, 'perimeter_mean': 166.2, 'area_mean': 1761.0, 'smoothness_mean': 0.1447, 'compactness_mean': 0.2867, 'concavity_mean': 0.4268, 'concave points_mean': 0.2012, 'symmetry_mean': 0.2655, 'fractal_dimension_mean': 0.06877, 'radius_se': 1.509, 'texture_se': 3.12, 'perimeter_se': 9.807, 'area_se': 233.0, 'smoothness_se': 0.02333, 'compactness_se': 0.09806, 'concavity_se': 0.1278, 'concave points_se': 0.01822, 'symmetry_se': 0.04547, 'fractal_dimension_se': 0.009875, 'radius_worst': 26.02, 'texture_worst': 23.99, 'perimeter_worst': 180.9, 'area_worst': 2073.0, 'smoothness_worst': 0.1696, 'compactness_worst': 0.4244, 'concavity_worst': 0.5803, 'concave points_worst': 0.2248, 'symmetry_worst': 0.3222, 'fractal_dimension_worst': 0.08009}\n",
        "\n",
        "data_point1 = data.iloc[122]\n",
        "data_point2 = data.iloc[291]\n",
        "data_point3 = data.iloc[346]\n",
        "data_point4 = data.iloc[453]\n",
        "data_point5 = data.iloc[45]\n",
        "\n",
        "print('ref point:', data_point1.to_dict())\n",
        "print('-' * 10)\n",
        "\n",
        "data_point_mod_1 = dict()\n",
        "for row, val in data_point1.to_dict().items():\n",
        "  data_point_mod_1[row] = val\n",
        "\n",
        "print('mod point before:', data_point_mod_1)\n",
        "\n",
        "data_point_mod_1['radius_mean'] = 14.9\n",
        "data_point_mod_1['perimeter_mean'] = 97\n",
        "data_point_mod_1['area_mean'] = 700\n",
        "data_point_mod_1['compactness_mean'] = .104\n",
        "data_point_mod_1['concavity_mean'] = .09\n",
        "data_point_mod_1['concave points_mean'] = .054\n",
        "# data_point_mod_1['radius_worst'] = 17\n",
        "\n",
        "print('mod point after:', data_point_mod_1)\n",
        "\n",
        "print('-' * 10)\n",
        "print('ranges:', ranges)\n",
        "\n",
        "print('ref class:', get_class(data_point1))\n",
        "print('mod class:', get_class(data_point_mod_1))\n",
        "print(weighted_difference(data_point1, data_point_mod_1))\n",
        "\n",
        "key = [data_point1, data_point2, data_point3, data_point4, data_point5]\n",
        "submission = [data_point_mod_1, data_point1, data_point1, data_point1, data_point1]\n",
        "\n",
        "df_sub = pd.DataFrame(submission)\n",
        "df_sub.to_csv('myanswers.csv')"
      ],
      "metadata": {
        "colab": {
          "base_uri": "https://localhost:8080/"
        },
        "id": "zCUez5-gG-GS",
        "outputId": "59629aa6-53cc-45de-b831-c16e2b9c86cf"
      },
      "execution_count": 44,
      "outputs": [
        {
          "output_type": "stream",
          "name": "stdout",
          "text": [
            "ref point: {'radius_mean': 24.25, 'texture_mean': 20.2, 'perimeter_mean': 166.2, 'area_mean': 1761.0, 'smoothness_mean': 0.1447, 'compactness_mean': 0.2867, 'concavity_mean': 0.4268, 'concave points_mean': 0.2012, 'symmetry_mean': 0.2655, 'fractal_dimension_mean': 0.06877, 'radius_se': 1.509, 'texture_se': 3.12, 'perimeter_se': 9.807, 'area_se': 233.0, 'smoothness_se': 0.02333, 'compactness_se': 0.09806, 'concavity_se': 0.1278, 'concave points_se': 0.01822, 'symmetry_se': 0.04547, 'fractal_dimension_se': 0.009875, 'radius_worst': 26.02, 'texture_worst': 23.99, 'perimeter_worst': 180.9, 'area_worst': 2073.0, 'smoothness_worst': 0.1696, 'compactness_worst': 0.4244, 'concavity_worst': 0.5803, 'concave points_worst': 0.2248, 'symmetry_worst': 0.3222, 'fractal_dimension_worst': 0.08009}\n",
            "----------\n",
            "mod point before: {'radius_mean': 24.25, 'texture_mean': 20.2, 'perimeter_mean': 166.2, 'area_mean': 1761.0, 'smoothness_mean': 0.1447, 'compactness_mean': 0.2867, 'concavity_mean': 0.4268, 'concave points_mean': 0.2012, 'symmetry_mean': 0.2655, 'fractal_dimension_mean': 0.06877, 'radius_se': 1.509, 'texture_se': 3.12, 'perimeter_se': 9.807, 'area_se': 233.0, 'smoothness_se': 0.02333, 'compactness_se': 0.09806, 'concavity_se': 0.1278, 'concave points_se': 0.01822, 'symmetry_se': 0.04547, 'fractal_dimension_se': 0.009875, 'radius_worst': 26.02, 'texture_worst': 23.99, 'perimeter_worst': 180.9, 'area_worst': 2073.0, 'smoothness_worst': 0.1696, 'compactness_worst': 0.4244, 'concavity_worst': 0.5803, 'concave points_worst': 0.2248, 'symmetry_worst': 0.3222, 'fractal_dimension_worst': 0.08009}\n",
            "mod point after: {'radius_mean': 14.9, 'texture_mean': 20.2, 'perimeter_mean': 97, 'area_mean': 700, 'smoothness_mean': 0.1447, 'compactness_mean': 0.104, 'concavity_mean': 0.09, 'concave points_mean': 0.054, 'symmetry_mean': 0.2655, 'fractal_dimension_mean': 0.06877, 'radius_se': 1.509, 'texture_se': 3.12, 'perimeter_se': 9.807, 'area_se': 233.0, 'smoothness_se': 0.02333, 'compactness_se': 0.09806, 'concavity_se': 0.1278, 'concave points_se': 0.01822, 'symmetry_se': 0.04547, 'fractal_dimension_se': 0.009875, 'radius_worst': 26.02, 'texture_worst': 23.99, 'perimeter_worst': 180.9, 'area_worst': 2073.0, 'smoothness_worst': 0.1696, 'compactness_worst': 0.4244, 'concavity_worst': 0.5803, 'concave points_worst': 0.2248, 'symmetry_worst': 0.3222, 'fractal_dimension_worst': 0.08009}\n",
            "----------\n",
            "ranges: {'radius_mean': [17.5, 12.5], 'perimeter_mean': [117, 79], 'area_mean': [950, 500], 'compactness_mean': [0.135, 0.075], 'concavity_mean': [0.15, 0.05], 'concave points_mean': [0.085, 0.025], 'radius_worst': [21, 14], 'perimeter_worst': [135, 90], 'area_worst': [1300, 550], 'concavity_worst': [0.4, 0.18], 'concave points_worst': [0.18, 0.07]}\n",
            "ref class: 0\n",
            "mod class: 1\n",
            "3.5307809999999997\n"
          ]
        }
      ]
    },
    {
      "cell_type": "code",
      "source": [
        "differences = []\n",
        "messages = []\n",
        "threshold = 5\n",
        "\n",
        "# Function to evaluate the datapoints\n",
        "def evaluate(submissionDatapoints):\n",
        "    status = True\n",
        "    for datapointIndex in range(5):\n",
        "        difference = weighted_difference(key[datapointIndex], submissionDatapoints[datapointIndex])\n",
        "        differences.append(difference)\n",
        "        if difference > threshold:\n",
        "            status = False\n",
        "            if difference == 1000:\n",
        "                print(f'{datapointIndex + 1}) You are not classifying the datapoint correctly')\n",
        "            else:\n",
        "              print(f'{datapointIndex + 1}) Your difference Score is {difference} for row {datapointIndex + 1}, It must be less than 5')\n",
        "        else:\n",
        "            print(f'{datapointIndex + 1}) Classifying correctly under the threshold!')\n",
        "    if status == True:\n",
        "        print(\"All points are classifying correctly under Threshold! Congratulations!\")\n",
        "    else:\n",
        "      print(\"\\nNot quite there yet, keep trying!\")"
      ],
      "metadata": {
        "id": "Q2ZEbwedMywN"
      },
      "execution_count": 6,
      "outputs": []
    },
    {
      "cell_type": "code",
      "source": [
        "# Call function to evaluate datapoints\n",
        "evaluate(submission)"
      ],
      "metadata": {
        "id": "Ea2AkLznM1S3",
        "colab": {
          "base_uri": "https://localhost:8080/"
        },
        "outputId": "5c219359-c3e5-4179-e778-7a319bd508e9"
      },
      "execution_count": 7,
      "outputs": [
        {
          "output_type": "stream",
          "name": "stdout",
          "text": [
            "1) Your difference Score is 7.181101 for row 1, It must be less than 5\n",
            "2) Your difference Score is 31.080893899999996 for row 2, It must be less than 5\n",
            "3) Your difference Score is 35.06313173000001 for row 3, It must be less than 5\n",
            "4) Your difference Score is 31.868896359999994 for row 4, It must be less than 5\n",
            "5) You are not classifying the datapoint correctly\n",
            "\n",
            "Not quite there yet, keep trying!\n"
          ]
        }
      ]
    },
    {
      "cell_type": "code",
      "source": [],
      "metadata": {
        "id": "Y9_G_FsNG6Z2"
      },
      "execution_count": null,
      "outputs": []
    }
  ]
}